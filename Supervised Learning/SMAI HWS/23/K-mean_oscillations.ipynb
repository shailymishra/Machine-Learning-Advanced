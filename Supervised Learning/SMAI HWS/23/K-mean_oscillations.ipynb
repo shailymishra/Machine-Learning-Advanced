{
 "cells": [
  {
   "cell_type": "code",
   "execution_count": 16,
   "metadata": {},
   "outputs": [
    {
     "name": "stdout",
     "output_type": "stream",
     "text": [
      "Row  [ 2. -1.]   D1 1.8027756377319946   D2    1.118033988749895\n",
      "Appending it to array1\n",
      "Row  [2. 1.]   D1 1.8027756377319946   D2    1.118033988749895\n",
      "Appending it to array1\n",
      "Row  [ 0. -1.]   D1 1.118033988749895   D2    1.8027756377319946\n",
      "Appending it to array2\n",
      "Row  [0. 1.]   D1 1.118033988749895   D2    1.8027756377319946\n",
      "Appending it to array2\n",
      "Row  [1.  0.5]   D1 0.7071067811865476   D2    0.7071067811865476\n",
      "1\n",
      "Row  [ 1.  -0.5]   D1 0.7071067811865476   D2    0.7071067811865476\n",
      "1\n",
      "Row  [1. 1.]   D1 1.118033988749895   D2    1.118033988749895\n",
      "0\n",
      "Row  [ 1. -1.]   D1 1.118033988749895   D2    1.118033988749895\n",
      "0\n"
     ]
    },
    {
     "data": {
      "text/plain": [
       "<matplotlib.legend.Legend at 0x17461767188>"
      ]
     },
     "execution_count": 16,
     "metadata": {},
     "output_type": "execute_result"
    },
    {
     "data": {
      "image/png": "[encoded data removed]",
      "text/plain": [
       "<Figure size 432x288 with 1 Axes>"
      ]
     },
     "metadata": {
      "needs_background": "light"
     },
     "output_type": "display_data"
    }
   ],
   "source": [
    "#we plan to choose a specific data set_up and illustrate oscillation\n",
    "import numpy as np\n",
    "import math\n",
    "import matplotlib.pyplot as plt\n",
    "import random\n",
    "\n",
    "X=np.array([[2,-1],[2,1],[0,-1],[0,1],[1,0.5],[1,-0.5],[1,1],[1,-1]])\n",
    "plt.scatter(X[:,0],X[:,1])\n",
    "#we would assign the first centroids manually \n",
    "cent1=np.array([[0.5,0]])\n",
    "cent2=np.array([[1.5,0]])\n",
    "plt.scatter(cent1[0][0],cent1[0][1], label=\"Centroid - class1\")\n",
    "plt.scatter(cent2[0][0],cent2[0][1], label=\"Centroid - class2\")\n",
    "\n",
    "\n",
    "#calculating distances and labelling\n",
    "arry1 = []\n",
    "arry2 = []\n",
    "for row in X:\n",
    "    d1=dist = np.linalg.norm(row-cent1)\n",
    "    d2=dist = np.linalg.norm(row-cent2)\n",
    "    print('Row ',row, '  D1', d1, '  D2   ', d2 )\n",
    "    if d1 > d2:\n",
    "        arry1.append(row)\n",
    "        print('Appending it to array1')\n",
    "    elif(d1<d2):\n",
    "        arry2.append(row)\n",
    "        print('Appending it to array2')\n",
    "    elif(d1==d2):\n",
    "        #Randomly assignmed class\n",
    "        choice = random.randint(0, 1)\n",
    "        print(choice)\n",
    "        if(choice == 0):\n",
    "            arry1.append(row)\n",
    "        else:\n",
    "            arry2.append(row)\n",
    "    continue\n",
    "\n",
    "arry1 = np.array(arry1)\n",
    "arry2 = np.array(arry2)\n",
    "plt.scatter(arry1[:,0],arry1[:,1],c='r',label=\"Class1\")\n",
    "plt.scatter(arry2[:,0],arry2[:,1],c='b', label=\"Class2\")\n",
    "plt.legend()\n",
    "    \n"
   ]
  },
  {
   "cell_type": "code",
   "execution_count": 27,
   "metadata": {},
   "outputs": [
    {
     "data": {
      "text/plain": [
       "<matplotlib.collections.PathCollection at 0x1acda968588>"
      ]
     },
     "execution_count": 27,
     "metadata": {},
     "output_type": "execute_result"
    },
    {
     "data": {
      "image/png": "[encoded data removed]",
      "text/plain": [
       "<Figure size 432x288 with 1 Axes>"
      ]
     },
     "metadata": {
      "needs_background": "light"
     },
     "output_type": "display_data"
    }
   ],
   "source": [
    "import numpy as np\n",
    "import math\n",
    "from sklearn.cluster import KMeans\n",
    "import matplotlib.pyplot as plt\n",
    "X=np.array([[1,0.5],[1,-0.5],[1,1],[1,-1],[0,1],[0,-1],[2,1],[2,-1]])\n",
    "plt.scatter(X[:,0],X[:,1])"
   ]
  },
  {
   "cell_type": "code",
   "execution_count": null,
   "metadata": {},
   "outputs": [],
   "source": []
  }
 ],
 "metadata": {
  "kernelspec": {
   "display_name": "Python 3",
   "language": "python",
   "name": "python3"
  },
  "language_info": {
   "codemirror_mode": {
    "name": "ipython",
    "version": 3
   },
   "file_extension": ".py",
   "mimetype": "text/x-python",
   "name": "python",
   "nbconvert_exporter": "python",
   "pygments_lexer": "ipython3",
   "version": "3.7.5"
  }
 },
 "nbformat": 4,
 "nbformat_minor": 2
}
